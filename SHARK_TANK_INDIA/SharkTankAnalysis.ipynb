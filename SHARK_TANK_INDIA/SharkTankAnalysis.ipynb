{
 "cells": [
  {
   "cell_type": "code",
   "id": "initial_id",
   "metadata": {
    "collapsed": true,
    "ExecuteTime": {
     "end_time": "2025-02-17T06:00:44.828787Z",
     "start_time": "2025-02-17T06:00:44.823205Z"
    }
   },
   "source": [
    "from pyspark.sql.functions import col, regexp_replace, when,count,sum,round,concat_ws,lit,format_number,explode,split\n",
    "from pyspark.sql.session import SparkSession\n",
    "import pandas as pd\n",
    "import openpyxl"
   ],
   "outputs": [],
   "execution_count": 45
  },
  {
   "metadata": {
    "ExecuteTime": {
     "end_time": "2025-02-17T06:00:44.856489Z",
     "start_time": "2025-02-17T06:00:44.847388Z"
    }
   },
   "cell_type": "code",
   "source": [
    "spark = SparkSession\\\n",
    "    .builder\\\n",
    "    .appName(\"Shark Tank Analysis\")\\\n",
    "    .master(\"local[*]\") \\\n",
    "    .getOrCreate()"
   ],
   "id": "70e7810a06094375",
   "outputs": [],
   "execution_count": 46
  },
  {
   "metadata": {
    "ExecuteTime": {
     "end_time": "2025-02-17T06:00:45.206766Z",
     "start_time": "2025-02-17T06:00:44.892327Z"
    }
   },
   "cell_type": "code",
   "source": [
    "shark_tank_df = spark\\\n",
    "    .read\\\n",
    "    .format(\"csv\")\\\n",
    "    .option(\"header\",True)\\\n",
    "    .option(\"inferSchema\",True)\\\n",
    "    .load(\"/Users/sahilnagpal/Desktop/byte-building/SharkTankIndia/SharkTankIndia.csv\")"
   ],
   "id": "1393a236c7cbb423",
   "outputs": [],
   "execution_count": 47
  },
  {
   "metadata": {
    "ExecuteTime": {
     "end_time": "2025-02-17T06:00:45.284013Z",
     "start_time": "2025-02-17T06:00:45.247321Z"
    }
   },
   "cell_type": "code",
   "source": [
    "# replace space in column\n",
    "\n",
    "new_column_names = [c.replace(\" \", \"_\").strip() for c in shark_tank_df.columns]\n",
    "shark_tank_df = shark_tank_df.toDF(*new_column_names)"
   ],
   "id": "a4496be3d7f59155",
   "outputs": [],
   "execution_count": 48
  },
  {
   "metadata": {
    "ExecuteTime": {
     "end_time": "2025-02-17T06:00:45.549068Z",
     "start_time": "2025-02-17T06:00:45.321333Z"
    }
   },
   "cell_type": "code",
   "source": [
    "# Objective1: Analyze the number of startups, deals made, and total investment per season.\n",
    "\n",
    "\n",
    "obj1_df = shark_tank_df.select(\"Season_Number\", \"Startup_Name\", \"Total_Deal_Amount\", \"Total_Deal_Equity\") \\\n",
    "    .groupBy(col(\"Season_Number\")) \\\n",
    "    .agg(count(\"Startup_Name\").alias(\"total_start_ups\"),\n",
    "         round(sum(\"Total_Deal_Amount\").cast(\"double\"), 2).alias(\"sum_of_total_deals\"),\n",
    "         round(sum(\"Total_Deal_Equity\").cast(\"double\"), 2).alias(\"sum_of_total_equity\"))\\\n",
    "    .withColumn(\"SeasonNumber\", concat_ws(\" \", lit(\"Season\"), col(\"Season_Number\")))\\\n",
    "    .drop(\"Season_Number\")\n",
    "obj1_pd_df = obj1_df.toPandas()\n"
   ],
   "id": "f1177c5f32649db4",
   "outputs": [],
   "execution_count": 49
  },
  {
   "metadata": {
    "ExecuteTime": {
     "end_time": "2025-02-17T06:00:45.949911Z",
     "start_time": "2025-02-17T06:00:45.578428Z"
    }
   },
   "cell_type": "code",
   "source": [
    "# Objective2: Identify which industries received the most investments and deals.\n",
    "\n",
    "from pyspark.sql.functions import col, count, sum, round\n",
    "\n",
    "obj2_df = shark_tank_df.select(\"Season_Number\",\"Industry\", \"Startup_Name\", \"Total_Deal_Amount\", \"Valuation_Requested\", \"Original_Ask_Amount\", \"Original_Offered_Equity\") \\\n",
    "    .filter((col(\"Received_Offer\") == 1) & (col(\"Accepted_Offer\") == 1)) \\\n",
    "    .withColumn(\"Valuation_INR\", (col(\"Original_Ask_Amount\") * 100000) / (col(\"Original_Offered_Equity\") / 100)) \\\n",
    "    .groupBy(\"Industry\",\"Season_Number\") \\\n",
    "    .agg(\n",
    "        count(\"Startup_Name\").alias(\"count_of_start_ups\"),\n",
    "        round(sum(\"Total_Deal_Amount\").cast(\"double\"), 2).alias(\"sum_of_total_deals\"),\n",
    "        round(sum(col(\"Valuation_INR\").cast(\"double\")),2).alias(\"sum_of_total_valuation\")) \\\n",
    "    .withColumn(\"sum_of_total_valuation\", format_number(col(\"sum_of_total_valuation\"), 0)) \\\n",
    "    .withColumn(\"SeasonNumber\", concat_ws(\" \", lit(\"Season\"), col(\"Season_Number\")))\\\n",
    "    .drop(\"Season_Number\")\n",
    "\n",
    "\n",
    "obj2_pd_df = obj2_df.toPandas()"
   ],
   "id": "2597b2ff0d9d1e14",
   "outputs": [],
   "execution_count": 50
  },
  {
   "metadata": {
    "ExecuteTime": {
     "end_time": "2025-02-17T06:00:46.317477Z",
     "start_time": "2025-02-17T06:00:45.988514Z"
    }
   },
   "cell_type": "code",
   "source": [
    "# Objective4: Identify which cities and states have the most startups pitching.\n",
    "\n",
    "obj3_df = shark_tank_df.select(\"Startup_Name\", \"Pitchers_City\", \"Pitchers_State\",\"Season_Number\")\\\n",
    "    .withColumn(\"Pitchers_State\", explode(split(col(\"Pitchers_State\"), \",\")))\\\n",
    "    .groupby(col(\"Pitchers_State\").alias(\"State\"),col(\"Season_Number\").alias(\"Season_Number\"))\\\n",
    "    .agg(count(\"Startup_Name\").alias(\"cnt_of_starts_up\"))\\\n",
    "    .withColumn(\"SeasonNumber\", concat_ws(\" \", lit(\"Season\"), col(\"Season_Number\")))\\\n",
    "    .drop(\"Season_Number\")\n",
    "\n",
    "\n",
    "obj3_pd_df = obj3_df.toPandas()"
   ],
   "id": "4a5b9b5de3ff6b4",
   "outputs": [],
   "execution_count": 51
  },
  {
   "metadata": {
    "ExecuteTime": {
     "end_time": "2025-02-17T06:00:46.366646Z",
     "start_time": "2025-02-17T06:00:46.357334Z"
    }
   },
   "cell_type": "code",
   "source": "shark_tank_df.printSchema()",
   "id": "11471a26ecdf6e82",
   "outputs": [
    {
     "name": "stdout",
     "output_type": "stream",
     "text": [
      "root\n",
      " |-- Season_Number: integer (nullable = true)\n",
      " |-- Startup_Name: string (nullable = true)\n",
      " |-- Episode_Number: integer (nullable = true)\n",
      " |-- Pitch_Number: integer (nullable = true)\n",
      " |-- Season_Start: string (nullable = true)\n",
      " |-- Season_End: string (nullable = true)\n",
      " |-- Original_Air_Date: string (nullable = true)\n",
      " |-- Episode_Title: string (nullable = true)\n",
      " |-- Anchor: string (nullable = true)\n",
      " |-- Industry: string (nullable = true)\n",
      " |-- Business_Description: string (nullable = true)\n",
      " |-- Company_Website: string (nullable = true)\n",
      " |-- Started_in: integer (nullable = true)\n",
      " |-- Number_of_Presenters: integer (nullable = true)\n",
      " |-- Male_Presenters: integer (nullable = true)\n",
      " |-- Female_Presenters: integer (nullable = true)\n",
      " |-- Transgender_Presenters: integer (nullable = true)\n",
      " |-- Couple_Presenters: integer (nullable = true)\n",
      " |-- Pitchers_Average_Age: string (nullable = true)\n",
      " |-- Pitchers_City: string (nullable = true)\n",
      " |-- Pitchers_State: string (nullable = true)\n",
      " |-- Yearly_Revenue: integer (nullable = true)\n",
      " |-- Monthly_Sales: double (nullable = true)\n",
      " |-- Gross_Margin: integer (nullable = true)\n",
      " |-- Net_Margin: integer (nullable = true)\n",
      " |-- EBITDA: double (nullable = true)\n",
      " |-- Cash_Burn: string (nullable = true)\n",
      " |-- SKUs: integer (nullable = true)\n",
      " |-- Has_Patents: string (nullable = true)\n",
      " |-- Bootstrapped: string (nullable = true)\n",
      " |-- Part_of_Match_off: string (nullable = true)\n",
      " |-- Original_Ask_Amount: double (nullable = true)\n",
      " |-- Original_Offered_Equity: double (nullable = true)\n",
      " |-- Valuation_Requested: double (nullable = true)\n",
      " |-- Received_Offer: integer (nullable = true)\n",
      " |-- Accepted_Offer: integer (nullable = true)\n",
      " |-- Total_Deal_Amount: double (nullable = true)\n",
      " |-- Total_Deal_Equity: double (nullable = true)\n",
      " |-- Total_Deal_Debt: integer (nullable = true)\n",
      " |-- Debt_Interest: integer (nullable = true)\n",
      " |-- Deal_Valuation: double (nullable = true)\n",
      " |-- Number_of_Sharks_in_Deal: integer (nullable = true)\n",
      " |-- Deal_Has_Conditions: string (nullable = true)\n",
      " |-- Royalty_Percentage: double (nullable = true)\n",
      " |-- Royalty_Recouped_Amount: integer (nullable = true)\n",
      " |-- Advisory_Shares_Equity: double (nullable = true)\n",
      " |-- Namita_Investment_Amount: double (nullable = true)\n",
      " |-- Namita_Investment_Equity: double (nullable = true)\n",
      " |-- Namita_Debt_Amount: double (nullable = true)\n",
      " |-- Vineeta_Investment_Amount: double (nullable = true)\n",
      " |-- Vineeta_Investment_Equity: double (nullable = true)\n",
      " |-- Vineeta_Debt_Amount: double (nullable = true)\n",
      " |-- Anupam_Investment_Amount: double (nullable = true)\n",
      " |-- Anupam_Investment_Equity: double (nullable = true)\n",
      " |-- Anupam_Debt_Amount: double (nullable = true)\n",
      " |-- Aman_Investment_Amount: double (nullable = true)\n",
      " |-- Aman_Investment_Equity: double (nullable = true)\n",
      " |-- Aman_Debt_Amount: double (nullable = true)\n",
      " |-- Peyush_Investment_Amount: double (nullable = true)\n",
      " |-- Peyush_Investment_Equity: double (nullable = true)\n",
      " |-- Peyush_Debt_Amount: integer (nullable = true)\n",
      " |-- Ritesh_Investment_Amount: double (nullable = true)\n",
      " |-- Ritesh_Investment_Equity: double (nullable = true)\n",
      " |-- Ritesh_Debt_Amount: double (nullable = true)\n",
      " |-- Amit_Investment_Amount: double (nullable = true)\n",
      " |-- Amit_Investment_Equity: double (nullable = true)\n",
      " |-- Amit_Debt_Amount: integer (nullable = true)\n",
      " |-- Guest_Investment_Amount: double (nullable = true)\n",
      " |-- Guest_Investment_Equity: double (nullable = true)\n",
      " |-- Guest_Debt_Amount: double (nullable = true)\n",
      " |-- Invested_Guest_Name: string (nullable = true)\n",
      " |-- All_Guest_Names: string (nullable = true)\n",
      " |-- Namita_Present: integer (nullable = true)\n",
      " |-- Vineeta_Present: integer (nullable = true)\n",
      " |-- Anupam_Present: integer (nullable = true)\n",
      " |-- Aman_Present: integer (nullable = true)\n",
      " |-- Peyush_Present: integer (nullable = true)\n",
      " |-- Ritesh_Present: integer (nullable = true)\n",
      " |-- Amit_Present: integer (nullable = true)\n",
      " |-- Guest_Present: integer (nullable = true)\n",
      "\n"
     ]
    }
   ],
   "execution_count": 52
  },
  {
   "metadata": {
    "ExecuteTime": {
     "end_time": "2025-02-17T06:00:46.566027Z",
     "start_time": "2025-02-17T06:00:46.454732Z"
    }
   },
   "cell_type": "code",
   "source": [
    "# Objective5: Year Wise Start Up (Last 3 years)\n",
    "current_year = 2023\n",
    "last_3_years = [current_year - i for i in range(3)]\n",
    "shark_tank_df\\\n",
    "    .select(\"Started_In\",\"Startup_Name\",\"Industry\",\"Season_Number\")\\\n",
    "    .withColumn(\"SeasonNumber\", concat_ws(\" \", lit(\"Season\"), col(\"Season_Number\")))\\\n",
    "    .drop(\"Season_Number\")\\\n",
    "    .filter(col(\"Started_In\").isin(last_3_years))\\\n",
    "    .groupby(\"Started_In\",\"Industry\",\"SeasonNumber\")\\\n",
    "    .agg(count(\"Started_In\").alias(\"cnt\"))\n",
    "\n",
    "\n"
   ],
   "id": "d473d313beeede94",
   "outputs": [
    {
     "data": {
      "text/plain": [
       "DataFrame[Started_In: int, Industry: string, SeasonNumber: string, cnt: bigint]"
      ]
     },
     "execution_count": 53,
     "metadata": {},
     "output_type": "execute_result"
    }
   ],
   "execution_count": 53
  },
  {
   "metadata": {
    "ExecuteTime": {
     "end_time": "2025-02-17T06:00:46.772494Z",
     "start_time": "2025-02-17T06:00:46.582685Z"
    }
   },
   "cell_type": "code",
   "source": [
    "obj4_df = shark_tank_df\\\n",
    "    .select(\"Male_Presenters\",\"Female_Presenters\",\"Industry\",\"Season_Number\")\\\n",
    "    .groupby(\"Industry\",\"Season_Number\")\\\n",
    "    .agg(count(\"Male_Presenters\").alias(\"Male Entrepreneur\"),\n",
    "         count(\"Female_Presenters\").alias(\"Female Entrepreneur\"))\n",
    "\n",
    "obj4_pd_df = obj4_df.toPandas()"
   ],
   "id": "ac27b77ce2d5695f",
   "outputs": [],
   "execution_count": 54
  },
  {
   "metadata": {
    "ExecuteTime": {
     "end_time": "2025-02-17T06:00:46.866688Z",
     "start_time": "2025-02-17T06:00:46.803315Z"
    }
   },
   "cell_type": "code",
   "source": [
    "with pd.ExcelWriter(\"/Users/sahilnagpal/Desktop/byte-building/SharkTankIndia/results/results.xlsx\", engine=\"openpyxl\") as writer:\n",
    "    obj1_pd_df.to_excel(writer, sheet_name=\"startups_deal_made_investment\", index=False)\n",
    "    obj2_pd_df.to_excel(writer, sheet_name=\"industry_wise\", index=False)\n",
    "    obj3_pd_df.to_excel(writer, sheet_name=\"state_analysis\", index=False)\n",
    "    obj4_pd_df.to_excel(writer, sheet_name=\"gender\", index=False)"
   ],
   "id": "1e8f4b592bc3c7c6",
   "outputs": [],
   "execution_count": 55
  },
  {
   "metadata": {
    "ExecuteTime": {
     "end_time": "2025-02-17T06:00:46.950809Z",
     "start_time": "2025-02-17T06:00:46.892327Z"
    }
   },
   "cell_type": "code",
   "source": [
    "namita_df = shark_tank_df\\\n",
    "    .groupby(col(\"Season_Number\"),col(\"Industry\"))\\\n",
    "    .agg(sum(\"Namita_Investment_Amount\").alias(\"total_amount_spent (In Lakhs)\"))\\\n",
    "    .withColumn(\"SeasonNumber\", concat_ws(\" \", lit(\"Season\"), col(\"Season_Number\")))\\\n",
    "    .withColumn(\"SharkName\",lit(\"Namita Thapar\"))\\\n",
    "    .withColumn(\"total_amount_spent (In Lakhs)\",round(when(col(\"total_amount_spent (In Lakhs)\").isNull(),0).otherwise(col(\"total_amount_spent (In Lakhs)\")),2))\\\n",
    "    .filter(col(\"total_amount_spent (In Lakhs)\")>0)\\\n",
    "    .drop(\"Season_Number\")"
   ],
   "id": "c6e0a8801d2440c4",
   "outputs": [],
   "execution_count": 56
  },
  {
   "metadata": {
    "ExecuteTime": {
     "end_time": "2025-02-17T06:00:47.054053Z",
     "start_time": "2025-02-17T06:00:46.980261Z"
    }
   },
   "cell_type": "code",
   "source": [
    "vineeta_df = shark_tank_df\\\n",
    "    .groupby(col(\"Season_Number\"),col(\"Industry\"))\\\n",
    "    .agg(sum(\"Vineeta_Investment_Amount\").alias(\"total_amount_spent (In Lakhs)\"))\\\n",
    "    .withColumn(\"SeasonNumber\", concat_ws(\" \", lit(\"Season\"), col(\"Season_Number\")))\\\n",
    "    .withColumn(\"SharkName\",lit(\"Vineeta Singh\"))\\\n",
    "    .withColumn(\"total_amount_spent (In Lakhs)\",round(when(col(\"total_amount_spent (In Lakhs)\").isNull(),0).otherwise(col(\"total_amount_spent (In Lakhs)\")),2))\\\n",
    "    .filter(col(\"total_amount_spent (In Lakhs)\")>0)\\\n",
    "    .drop(\"Season_Number\")"
   ],
   "id": "b549a21ba7ccbb6a",
   "outputs": [],
   "execution_count": 57
  },
  {
   "metadata": {
    "ExecuteTime": {
     "end_time": "2025-02-17T06:00:47.161462Z",
     "start_time": "2025-02-17T06:00:47.089695Z"
    }
   },
   "cell_type": "code",
   "source": [
    "anupam_df = shark_tank_df\\\n",
    "    .groupby(col(\"Season_Number\"),col(\"Industry\"))\\\n",
    "    .agg(sum(\"Anupam_Investment_Amount\").alias(\"total_amount_spent (In Lakhs)\"))\\\n",
    "    .withColumn(\"SeasonNumber\", concat_ws(\" \", lit(\"Season\"), col(\"Season_Number\")))\\\n",
    "    .withColumn(\"SharkName\",lit(\"Anupam Mittal\"))\\\n",
    "    .withColumn(\"total_amount_spent (In Lakhs)\",round(when(col(\"total_amount_spent (In Lakhs)\").isNull(),0).otherwise(col(\"total_amount_spent (In Lakhs)\")),2))\\\n",
    "    .filter(col(\"total_amount_spent (In Lakhs)\")>0)\\\n",
    "    .drop(\"Season_Number\")"
   ],
   "id": "b80655835d9be330",
   "outputs": [],
   "execution_count": 58
  },
  {
   "metadata": {
    "ExecuteTime": {
     "end_time": "2025-02-17T06:00:47.262022Z",
     "start_time": "2025-02-17T06:00:47.192794Z"
    }
   },
   "cell_type": "code",
   "source": [
    "aman_df = shark_tank_df\\\n",
    "    .groupby(col(\"Season_Number\"),col(\"Industry\"))\\\n",
    "    .agg(sum(\"Aman_Investment_Amount\").alias(\"total_amount_spent (In Lakhs)\"))\\\n",
    "    .withColumn(\"SeasonNumber\", concat_ws(\" \", lit(\"Season\"), col(\"Season_Number\")))\\\n",
    "    .withColumn(\"SharkName\",lit(\"Aman Gupta\"))\\\n",
    "    .withColumn(\"total_amount_spent (In Lakhs)\",round(when(col(\"total_amount_spent (In Lakhs)\").isNull(),0).otherwise(col(\"total_amount_spent (In Lakhs)\")),2))\\\n",
    "    .filter(col(\"total_amount_spent (In Lakhs)\")>0)\\\n",
    "    .drop(\"Season_Number\")"
   ],
   "id": "7606e1b1c09b02ce",
   "outputs": [],
   "execution_count": 59
  },
  {
   "metadata": {
    "ExecuteTime": {
     "end_time": "2025-02-17T06:00:47.362805Z",
     "start_time": "2025-02-17T06:00:47.291888Z"
    }
   },
   "cell_type": "code",
   "source": [
    "peyush_df = shark_tank_df\\\n",
    "    .groupby(col(\"Season_Number\"),col(\"Industry\"))\\\n",
    "    .agg(sum(\"Peyush_Investment_Amount\").alias(\"total_amount_spent (In Lakhs)\"))\\\n",
    "    .withColumn(\"SeasonNumber\", concat_ws(\" \", lit(\"Season\"), col(\"Season_Number\")))\\\n",
    "    .withColumn(\"SharkName\",lit(\"Peeyush Bansal\"))\\\n",
    "    .withColumn(\"total_amount_spent (In Lakhs)\",round(when(col(\"total_amount_spent (In Lakhs)\").isNull(),0).otherwise(col(\"total_amount_spent (In Lakhs)\")),2))\\\n",
    "    .filter(col(\"total_amount_spent (In Lakhs)\")>0)\\\n",
    "    .drop(\"Season_Number\")"
   ],
   "id": "ca2205e842722730",
   "outputs": [],
   "execution_count": 60
  },
  {
   "metadata": {
    "ExecuteTime": {
     "end_time": "2025-02-17T06:00:47.999254Z",
     "start_time": "2025-02-17T06:00:47.393628Z"
    }
   },
   "cell_type": "code",
   "source": [
    "obj5_df = vineeta_df\\\n",
    "    .unionAll(namita_df)\\\n",
    "    .unionAll(anupam_df)\\\n",
    "    .unionAll(aman_df)\\\n",
    "    .unionAll(peyush_df)\\\n",
    "\n",
    "obj5_pd_df =obj5_df.toPandas()"
   ],
   "id": "78d6d33030e749d8",
   "outputs": [],
   "execution_count": 61
  },
  {
   "metadata": {
    "ExecuteTime": {
     "end_time": "2025-02-17T06:00:48.116847Z",
     "start_time": "2025-02-17T06:00:48.030699Z"
    }
   },
   "cell_type": "code",
   "source": [
    "with pd.ExcelWriter(\"/Users/sahilnagpal/Desktop/byte-building/SharkTankIndia/results/results.xlsx\", engine=\"openpyxl\") as writer:\n",
    "    obj1_pd_df.to_excel(writer, sheet_name=\"startups_deal_made_investment\", index=False)\n",
    "    obj2_pd_df.to_excel(writer, sheet_name=\"industry_wise\", index=False)\n",
    "    obj3_pd_df.to_excel(writer, sheet_name=\"state_analysis\", index=False)\n",
    "    obj4_pd_df.to_excel(writer, sheet_name=\"gender\", index=False)\n",
    "    obj5_pd_df.to_excel(writer, sheet_name=\"sharks\", index=False)"
   ],
   "id": "9b151e4894a9db94",
   "outputs": [],
   "execution_count": 62
  }
 ],
 "metadata": {
  "kernelspec": {
   "display_name": "Python 3",
   "language": "python",
   "name": "python3"
  },
  "language_info": {
   "codemirror_mode": {
    "name": "ipython",
    "version": 2
   },
   "file_extension": ".py",
   "mimetype": "text/x-python",
   "name": "python",
   "nbconvert_exporter": "python",
   "pygments_lexer": "ipython2",
   "version": "2.7.6"
  }
 },
 "nbformat": 4,
 "nbformat_minor": 5
}
