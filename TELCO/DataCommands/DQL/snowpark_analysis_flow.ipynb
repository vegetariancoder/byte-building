{
 "cells": [
  {
   "metadata": {},
   "cell_type": "markdown",
   "source": "### Importing the Libraries",
   "id": "29e71540d2ad0f3b"
  },
  {
   "cell_type": "code",
   "id": "initial_id",
   "metadata": {
    "collapsed": true
   },
   "source": [
    "from snowflake.snowpark import Session\n",
    "from snowflake.snowpark.functions import col,dense_rank,avg,round\n",
    "from snowflake.snowpark.window import Window"
   ],
   "outputs": [],
   "execution_count": null
  },
  {
   "metadata": {},
   "cell_type": "markdown",
   "source": "### Connect with Snowflake",
   "id": "a9a8a0c2abe4585f"
  },
  {
   "metadata": {},
   "cell_type": "code",
   "source": [
    "connection_params = {\n",
    "    \"account\": \"\",\n",
    "    \"user\": \"\",\n",
    "    \"password\": \"\",\n",
    "    \"role\": \"\",\n",
    "    \"warehouse\": \"\",\n",
    "    \"database\": \"\",\n",
    "    \"schema\": \"\"\n",
    "}"
   ],
   "id": "8976b2fb316c2dcc",
   "outputs": [],
   "execution_count": null
  },
  {
   "metadata": {},
   "cell_type": "code",
   "source": [
    "try:\n",
    "    session = Session.builder.configs(connection_params).create()\n",
    "    print(\"Connected to Snowflake\")\n",
    "except Exception as e:\n",
    "    print(e)"
   ],
   "id": "21ad70212cf1b16c",
   "outputs": [],
   "execution_count": null
  },
  {
   "metadata": {},
   "cell_type": "markdown",
   "source": "### Reading the Data from Snowflake",
   "id": "91cda89c153b4e80"
  },
  {
   "metadata": {},
   "cell_type": "code",
   "source": [
    "location_df = session.sql(\"SELECT * FROM TELCO_PROJECT.TELCO_STAGING_TABLES.LOCATION\")\n",
    "status_analysis_df = session.sql(\"SELECT * FROM TELCO_PROJECT.TELCO_STAGING_TABLES.STATUS_ANALYSIS\")\n",
    "customer_df = session.sql(\"SELECT * FROM TELCO_PROJECT.TELCO_STAGING_TABLES.CUSTOMER\")\n",
    "online_service_df = session.sql(\"SELECT * FROM TELCO_PROJECT.TELCO_STAGING_TABLES.ONLINE_SERVICE\")\n",
    "payment_info_df = session.sql(\"SELECT * FROM TELCO_PROJECT.TELCO_STAGING_TABLES.PAYMENT_INFO\")\n",
    "service_option_df = session.sql(\"SELECT * FROM TELCO_PROJECT.TELCO_STAGING_TABLES.SERVICE_OPTION\")"
   ],
   "id": "22ab7274d0cf553c",
   "outputs": [],
   "execution_count": null
  },
  {
   "metadata": {},
   "cell_type": "code",
   "source": [
    "location_df\\\n",
    "    .join(status_analysis_df, on = [\"customer_id\"], how = \"inner\")\\\n",
    "    .filter((col(\"CHURN_LABEL\") == \"Yes\") & (col(\"CHURN_CATEGORY\") != \"Not Applicable\"))\\\n",
    "    .groupBy(col(\"CITY\"))\\\n",
    "    .agg(avg(col(\"CHURN_SCORE\")).alias(\"avg_churn_score\"))\\\n",
    "    .withColumn(\"drnk\", dense_rank().over(Window.orderBy(col(\"avg_churn_score\").desc())))\\\n",
    "    .withColumn(\"avg_churn_score\", round(col(\"avg_churn_score\"), 2))\\\n",
    "    .filter(col(\"drnk\") <= 5)\\\n",
    "    .drop(\"drnk\")"
   ],
   "id": "426ed2544cbea533",
   "outputs": [],
   "execution_count": null
  },
  {
   "metadata": {},
   "cell_type": "code",
   "source": "",
   "id": "f137f802fec354b7",
   "outputs": [],
   "execution_count": null
  }
 ],
 "metadata": {
  "kernelspec": {
   "display_name": "Python 3",
   "language": "python",
   "name": "python3"
  },
  "language_info": {
   "codemirror_mode": {
    "name": "ipython",
    "version": 2
   },
   "file_extension": ".py",
   "mimetype": "text/x-python",
   "name": "python",
   "nbconvert_exporter": "python",
   "pygments_lexer": "ipython2",
   "version": "2.7.6"
  }
 },
 "nbformat": 4,
 "nbformat_minor": 5
}
